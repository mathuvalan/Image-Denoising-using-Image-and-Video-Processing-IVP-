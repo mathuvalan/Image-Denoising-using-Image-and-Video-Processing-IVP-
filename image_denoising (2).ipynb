{
 "cells": [
  {
   "cell_type": "code",
   "execution_count": 2,
   "metadata": {},
   "outputs": [],
   "source": [
    "import numpy as np\n",
    "import tensorflow as tf\n",
    "import matplotlib.pyplot as plt\n",
    "import tensorflow\n",
    "from tensorflow.keras import layers\n",
    "from tensorflow.keras.datasets import mnist\n",
    "from tensorflow.keras.models import Model"
   ]
  },
  {
   "cell_type": "code",
   "execution_count": 3,
   "metadata": {},
   "outputs": [],
   "source": [
    "def display(array1, array2):\n",
    "    n = 8\n",
    "\n",
    "    indices = np.random.randint(len(array1), size=n)\n",
    "    images1 = array1[indices, :]\n",
    "    images2 = array2[indices, :]\n",
    "\n",
    "    plt.figure(figsize=(20, 4))\n",
    "    for i, (image1, image2) in enumerate(zip(images1, images2)):\n",
    "        ax = plt.subplot(2, n, i + 1)\n",
    "        plt.imshow(image1.reshape(28, 28))\n",
    "        plt.gray()\n",
    "        ax.get_xaxis().set_visible(False)\n",
    "        ax.get_yaxis().set_visible(False)\n",
    "\n",
    "        ax = plt.subplot(2, n, i + 1 + n)\n",
    "        plt.imshow(image2.reshape(28, 28))\n",
    "        plt.gray()\n",
    "        ax.get_xaxis().set_visible(False)\n",
    "        ax.get_yaxis().set_visible(False)\n",
    "\n",
    "    plt.show()"
   ]
  },
  {
   "cell_type": "code",
   "execution_count": 4,
   "metadata": {},
   "outputs": [],
   "source": [
    "def make_some_noise(array):\n",
    "\n",
    "    noise_factor = 0.35\n",
    "    noisy_array = array + noise_factor * np.random.normal(\n",
    "        loc=0.0, scale=1.0, size=array.shape\n",
    "    )\n",
    "\n",
    "    return np.clip(noisy_array, 0.0, 1.0)"
   ]
  },
  {
   "cell_type": "code",
   "execution_count": 5,
   "metadata": {},
   "outputs": [],
   "source": [
    "def preprocess_dataset(array):\n",
    "\n",
    "    array = array.astype(\"float32\") / 255.0\n",
    "    array = np.reshape(array, (len(array), 28, 28, 1))\n",
    "    return array\n"
   ]
  },
  {
   "cell_type": "code",
   "execution_count": 6,
   "metadata": {},
   "outputs": [
    {
     "data": {
      "image/png": "[encoded data removed]",
      "text/plain": [
       "<Figure size 1440x288 with 16 Axes>"
      ]
     },
     "metadata": {
      "needs_background": "light"
     },
     "output_type": "display_data"
    }
   ],
   "source": [
    "# We only use images in this tutorial, so no need to load the labels\n",
    "(train_data, _), (test_data, _) = mnist.load_data()\n",
    "\n",
    "# Normalize and reshape the data\n",
    "train_data = preprocess_dataset(train_data)\n",
    "test_data = preprocess_dataset(test_data)\n",
    "\n",
    "# Create \"noised\" data\n",
    "noisy_train_data = make_some_noise(train_data)\n",
    "noisy_test_data = make_some_noise(test_data)\n",
    "\n",
    "# Display the train data and a version of it with added noise\n",
    "display(train_data, noisy_train_data)"
   ]
  },
  {
   "cell_type": "code",
   "execution_count": 7,
   "metadata": {},
   "outputs": [
    {
     "name": "stdout",
     "output_type": "stream",
     "text": [
      "Model: \"model\"\n",
      "_________________________________________________________________\n",
      " Layer (type)                Output Shape              Param #   \n",
      "=================================================================\n",
      " input_1 (InputLayer)        [(None, 28, 28, 1)]       0         \n",
      "                                                                 \n",
      " conv2d (Conv2D)             (None, 28, 28, 32)        320       \n",
      "                                                                 \n",
      " max_pooling2d (MaxPooling2D  (None, 14, 14, 32)       0         \n",
      " )                                                               \n",
      "                                                                 \n",
      " conv2d_1 (Conv2D)           (None, 14, 14, 32)        9248      \n",
      "                                                                 \n",
      " max_pooling2d_1 (MaxPooling  (None, 7, 7, 32)         0         \n",
      " 2D)                                                             \n",
      "                                                                 \n",
      " conv2d_transpose (Conv2DTra  (None, 14, 14, 32)       9248      \n",
      " nspose)                                                         \n",
      "                                                                 \n",
      " conv2d_transpose_1 (Conv2DT  (None, 28, 28, 32)       9248      \n",
      " ranspose)                                                       \n",
      "                                                                 \n",
      " conv2d_2 (Conv2D)           (None, 28, 28, 1)         289       \n",
      "                                                                 \n",
      "=================================================================\n",
      "Total params: 28,353\n",
      "Trainable params: 28,353\n",
      "Non-trainable params: 0\n",
      "_________________________________________________________________\n"
     ]
    }
   ],
   "source": [
    "input = layers.Input(shape=(28, 28, 1))\n",
    "\n",
    "# Encoder\n",
    "model = layers.Conv2D(32, (3, 3), activation=\"relu\", padding=\"same\")(input)\n",
    "model = layers.MaxPooling2D((2, 2), padding=\"same\")(model)\n",
    "model = layers.Conv2D(32, (3, 3), activation=\"relu\", padding=\"same\")(model)\n",
    "model = layers.MaxPooling2D((2, 2), padding=\"same\")(model)\n",
    "\n",
    "# Decoder\n",
    "model = layers.Conv2DTranspose(32, (3, 3), strides=2, activation=\"relu\", padding=\"same\")(model)\n",
    "model = layers.Conv2DTranspose(32, (3, 3), strides=2, activation=\"relu\", padding=\"same\")(model)\n",
    "model = layers.Conv2D(1, (3, 3), activation=\"sigmoid\", padding=\"same\")(model)\n",
    "       \n",
    "          \n",
    "# Autoencoder\n",
    "ae = Model(input, model)\n",
    "ae.compile(optimizer=\"adam\", loss=\"binary_crossentropy\")\n",
    "ae.summary()"
   ]
  },
  {
   "cell_type": "code",
   "execution_count": 8,
   "metadata": {},
   "outputs": [
    {
     "name": "stdout",
     "output_type": "stream",
     "text": [
      "You must install pydot (`pip install pydot`) and install graphviz (see instructions at https://graphviz.gitlab.io/download/) for plot_model to work.\n"
     ]
    }
   ],
   "source": [
    "tensorflow.keras.utils.plot_model(\n",
    "    ae,\n",
    "    show_shapes=False,\n",
    "    show_dtype=False,\n",
    "    show_layer_names=True,\n",
    "    rankdir=\"TB\",\n",
    "    expand_nested=False,\n",
    "    dpi=96,\n",
    ")"
   ]
  },
  {
   "cell_type": "code",
   "execution_count": 9,
   "metadata": {},
   "outputs": [
    {
     "name": "stdout",
     "output_type": "stream",
     "text": [
      "Epoch 1/100\n",
      "469/469 [==============================] - 84s 177ms/step - loss: 0.1712 - val_loss: 0.0987\n",
      "Epoch 2/100\n",
      "469/469 [==============================] - 79s 169ms/step - loss: 0.0956 - val_loss: 0.0918\n",
      "Epoch 3/100\n",
      "469/469 [==============================] - 74s 157ms/step - loss: 0.0913 - val_loss: 0.0890\n",
      "Epoch 4/100\n",
      "469/469 [==============================] - 74s 157ms/step - loss: 0.0890 - val_loss: 0.0876\n",
      "Epoch 5/100\n",
      "469/469 [==============================] - 71s 152ms/step - loss: 0.0877 - val_loss: 0.0865\n",
      "Epoch 6/100\n",
      "469/469 [==============================] - 74s 158ms/step - loss: 0.0867 - val_loss: 0.0858\n",
      "Epoch 7/100\n",
      "469/469 [==============================] - 85s 181ms/step - loss: 0.0859 - val_loss: 0.0849\n",
      "Epoch 8/100\n",
      "469/469 [==============================] - 84s 179ms/step - loss: 0.0853 - val_loss: 0.0843\n",
      "Epoch 9/100\n",
      "469/469 [==============================] - 81s 173ms/step - loss: 0.0847 - val_loss: 0.0839\n",
      "Epoch 10/100\n",
      "469/469 [==============================] - 80s 170ms/step - loss: 0.0843 - val_loss: 0.0835\n",
      "Epoch 11/100\n",
      "469/469 [==============================] - 78s 167ms/step - loss: 0.0839 - val_loss: 0.0831\n",
      "Epoch 12/100\n",
      "469/469 [==============================] - 80s 171ms/step - loss: 0.0836 - val_loss: 0.0831\n",
      "Epoch 13/100\n",
      "469/469 [==============================] - 77s 164ms/step - loss: 0.0834 - val_loss: 0.0827\n",
      "Epoch 14/100\n",
      "469/469 [==============================] - 81s 174ms/step - loss: 0.0831 - val_loss: 0.0825\n",
      "Epoch 15/100\n",
      "469/469 [==============================] - 88s 188ms/step - loss: 0.0829 - val_loss: 0.0825\n",
      "Epoch 16/100\n",
      "469/469 [==============================] - 86s 183ms/step - loss: 0.0828 - val_loss: 0.0823\n",
      "Epoch 17/100\n",
      "469/469 [==============================] - 84s 179ms/step - loss: 0.0826 - val_loss: 0.0826\n",
      "Epoch 18/100\n",
      "469/469 [==============================] - 84s 179ms/step - loss: 0.0824 - val_loss: 0.0818\n",
      "Epoch 19/100\n",
      "469/469 [==============================] - 84s 179ms/step - loss: 0.0823 - val_loss: 0.0818\n",
      "Epoch 20/100\n",
      "469/469 [==============================] - 84s 178ms/step - loss: 0.0822 - val_loss: 0.0818\n",
      "Epoch 21/100\n",
      "469/469 [==============================] - 83s 178ms/step - loss: 0.0820 - val_loss: 0.0815\n",
      "Epoch 22/100\n",
      "469/469 [==============================] - 89s 190ms/step - loss: 0.0819 - val_loss: 0.0814\n",
      "Epoch 23/100\n",
      "469/469 [==============================] - 91s 194ms/step - loss: 0.0818 - val_loss: 0.0813\n",
      "Epoch 24/100\n",
      "469/469 [==============================] - 89s 189ms/step - loss: 0.0818 - val_loss: 0.0812\n",
      "Epoch 25/100\n",
      "469/469 [==============================] - 77s 164ms/step - loss: 0.0817 - val_loss: 0.0813\n",
      "Epoch 26/100\n",
      "469/469 [==============================] - 75s 160ms/step - loss: 0.0816 - val_loss: 0.0811\n",
      "Epoch 27/100\n",
      "469/469 [==============================] - 76s 162ms/step - loss: 0.0815 - val_loss: 0.0811\n",
      "Epoch 28/100\n",
      "469/469 [==============================] - 81s 173ms/step - loss: 0.0815 - val_loss: 0.0810\n",
      "Epoch 29/100\n",
      "469/469 [==============================] - 85s 182ms/step - loss: 0.0814 - val_loss: 0.0810\n",
      "Epoch 30/100\n",
      "469/469 [==============================] - 79s 169ms/step - loss: 0.0813 - val_loss: 0.0809\n",
      "Epoch 31/100\n",
      "469/469 [==============================] - 74s 159ms/step - loss: 0.0813 - val_loss: 0.0808\n",
      "Epoch 32/100\n",
      "469/469 [==============================] - 77s 163ms/step - loss: 0.0812 - val_loss: 0.0809\n",
      "Epoch 33/100\n",
      "469/469 [==============================] - 77s 164ms/step - loss: 0.0812 - val_loss: 0.0808\n",
      "Epoch 34/100\n",
      "469/469 [==============================] - 76s 162ms/step - loss: 0.0811 - val_loss: 0.0807\n",
      "Epoch 35/100\n",
      "469/469 [==============================] - 75s 161ms/step - loss: 0.0811 - val_loss: 0.0806\n",
      "Epoch 36/100\n",
      "469/469 [==============================] - 82s 174ms/step - loss: 0.0810 - val_loss: 0.0806\n",
      "Epoch 37/100\n",
      "469/469 [==============================] - 77s 163ms/step - loss: 0.0810 - val_loss: 0.0805\n",
      "Epoch 38/100\n",
      "469/469 [==============================] - 76s 163ms/step - loss: 0.0809 - val_loss: 0.0805\n",
      "Epoch 39/100\n",
      "469/469 [==============================] - 76s 163ms/step - loss: 0.0809 - val_loss: 0.0805\n",
      "Epoch 40/100\n",
      "469/469 [==============================] - 75s 160ms/step - loss: 0.0809 - val_loss: 0.0804\n",
      "Epoch 41/100\n",
      "469/469 [==============================] - 75s 161ms/step - loss: 0.0808 - val_loss: 0.0806\n",
      "Epoch 42/100\n",
      "469/469 [==============================] - 76s 162ms/step - loss: 0.0808 - val_loss: 0.0806\n",
      "Epoch 43/100\n",
      "469/469 [==============================] - 79s 169ms/step - loss: 0.0807 - val_loss: 0.0804\n",
      "Epoch 44/100\n",
      "469/469 [==============================] - 86s 184ms/step - loss: 0.0807 - val_loss: 0.0803\n",
      "Epoch 45/100\n",
      "469/469 [==============================] - 79s 169ms/step - loss: 0.0807 - val_loss: 0.0802\n",
      "Epoch 46/100\n",
      "469/469 [==============================] - 77s 165ms/step - loss: 0.0807 - val_loss: 0.0802\n",
      "Epoch 47/100\n",
      "469/469 [==============================] - 82s 174ms/step - loss: 0.0806 - val_loss: 0.0802\n",
      "Epoch 48/100\n",
      "469/469 [==============================] - 76s 163ms/step - loss: 0.0806 - val_loss: 0.0802\n",
      "Epoch 49/100\n",
      "469/469 [==============================] - 76s 162ms/step - loss: 0.0806 - val_loss: 0.0804\n",
      "Epoch 50/100\n",
      "469/469 [==============================] - 81s 174ms/step - loss: 0.0805 - val_loss: 0.0803\n",
      "Epoch 51/100\n",
      "469/469 [==============================] - 80s 171ms/step - loss: 0.0805 - val_loss: 0.0801\n",
      "Epoch 52/100\n",
      "469/469 [==============================] - 78s 165ms/step - loss: 0.0805 - val_loss: 0.0801\n",
      "Epoch 53/100\n",
      "469/469 [==============================] - 79s 168ms/step - loss: 0.0805 - val_loss: 0.0801\n",
      "Epoch 54/100\n",
      "469/469 [==============================] - 80s 170ms/step - loss: 0.0804 - val_loss: 0.0802\n",
      "Epoch 55/100\n",
      "469/469 [==============================] - 89s 191ms/step - loss: 0.0804 - val_loss: 0.0800\n",
      "Epoch 56/100\n",
      "469/469 [==============================] - 105s 225ms/step - loss: 0.0804 - val_loss: 0.0800\n",
      "Epoch 57/100\n",
      "469/469 [==============================] - 116s 247ms/step - loss: 0.0804 - val_loss: 0.0801\n",
      "Epoch 58/100\n",
      "469/469 [==============================] - 116s 246ms/step - loss: 0.0804 - val_loss: 0.0800\n",
      "Epoch 59/100\n",
      "469/469 [==============================] - 115s 245ms/step - loss: 0.0803 - val_loss: 0.0800\n",
      "Epoch 60/100\n",
      "469/469 [==============================] - 115s 245ms/step - loss: 0.0803 - val_loss: 0.0803\n",
      "Epoch 61/100\n",
      "469/469 [==============================] - 114s 244ms/step - loss: 0.0803 - val_loss: 0.0799\n",
      "Epoch 62/100\n",
      "469/469 [==============================] - 115s 245ms/step - loss: 0.0803 - val_loss: 0.0799\n",
      "Epoch 63/100\n",
      "469/469 [==============================] - 115s 245ms/step - loss: 0.0802 - val_loss: 0.0799\n",
      "Epoch 64/100\n",
      "469/469 [==============================] - 115s 246ms/step - loss: 0.0802 - val_loss: 0.0799\n",
      "Epoch 65/100\n",
      "469/469 [==============================] - 115s 246ms/step - loss: 0.0802 - val_loss: 0.0799\n",
      "Epoch 66/100\n",
      "469/469 [==============================] - 116s 247ms/step - loss: 0.0802 - val_loss: 0.0800\n",
      "Epoch 67/100\n",
      "469/469 [==============================] - 115s 246ms/step - loss: 0.0802 - val_loss: 0.0799\n",
      "Epoch 68/100\n",
      "469/469 [==============================] - 116s 247ms/step - loss: 0.0802 - val_loss: 0.0799\n",
      "Epoch 69/100\n",
      "469/469 [==============================] - 115s 246ms/step - loss: 0.0802 - val_loss: 0.0799\n",
      "Epoch 70/100\n",
      "469/469 [==============================] - 115s 246ms/step - loss: 0.0802 - val_loss: 0.0800\n",
      "Epoch 71/100\n",
      "469/469 [==============================] - 116s 246ms/step - loss: 0.0801 - val_loss: 0.0799\n",
      "Epoch 72/100\n",
      "469/469 [==============================] - 115s 246ms/step - loss: 0.0801 - val_loss: 0.0798\n",
      "Epoch 73/100\n",
      "469/469 [==============================] - 115s 246ms/step - loss: 0.0801 - val_loss: 0.0798\n",
      "Epoch 74/100\n",
      "469/469 [==============================] - 115s 244ms/step - loss: 0.0801 - val_loss: 0.0798\n",
      "Epoch 75/100\n",
      "469/469 [==============================] - 114s 243ms/step - loss: 0.0801 - val_loss: 0.0798\n",
      "Epoch 76/100\n",
      "469/469 [==============================] - 115s 246ms/step - loss: 0.0801 - val_loss: 0.0800\n",
      "Epoch 77/100\n",
      "469/469 [==============================] - 116s 247ms/step - loss: 0.0801 - val_loss: 0.0798\n",
      "Epoch 78/100\n",
      "469/469 [==============================] - 115s 246ms/step - loss: 0.0800 - val_loss: 0.0797\n",
      "Epoch 79/100\n",
      "469/469 [==============================] - 114s 244ms/step - loss: 0.0800 - val_loss: 0.0797\n",
      "Epoch 80/100\n",
      "469/469 [==============================] - 124s 264ms/step - loss: 0.0800 - val_loss: 0.0800\n",
      "Epoch 81/100\n",
      "469/469 [==============================] - 119s 254ms/step - loss: 0.0800 - val_loss: 0.0799\n",
      "Epoch 82/100\n",
      "469/469 [==============================] - 114s 243ms/step - loss: 0.0800 - val_loss: 0.0798\n",
      "Epoch 83/100\n",
      "469/469 [==============================] - 113s 242ms/step - loss: 0.0800 - val_loss: 0.0797\n",
      "Epoch 84/100\n",
      "469/469 [==============================] - 113s 240ms/step - loss: 0.0800 - val_loss: 0.0797\n",
      "Epoch 85/100\n",
      "469/469 [==============================] - 113s 240ms/step - loss: 0.0800 - val_loss: 0.0796\n",
      "Epoch 86/100\n",
      "469/469 [==============================] - 114s 243ms/step - loss: 0.0799 - val_loss: 0.0797\n",
      "Epoch 87/100\n",
      "469/469 [==============================] - 115s 244ms/step - loss: 0.0799 - val_loss: 0.0798\n",
      "Epoch 88/100\n",
      "469/469 [==============================] - 114s 244ms/step - loss: 0.0799 - val_loss: 0.0796\n",
      "Epoch 89/100\n",
      "469/469 [==============================] - 114s 244ms/step - loss: 0.0799 - val_loss: 0.0800\n",
      "Epoch 90/100\n",
      "469/469 [==============================] - 114s 243ms/step - loss: 0.0799 - val_loss: 0.0796\n",
      "Epoch 91/100\n",
      "469/469 [==============================] - 114s 243ms/step - loss: 0.0799 - val_loss: 0.0797\n",
      "Epoch 92/100\n",
      "469/469 [==============================] - 114s 244ms/step - loss: 0.0799 - val_loss: 0.0796\n",
      "Epoch 93/100\n",
      "469/469 [==============================] - 114s 244ms/step - loss: 0.0799 - val_loss: 0.0796\n",
      "Epoch 94/100\n",
      "469/469 [==============================] - 114s 244ms/step - loss: 0.0799 - val_loss: 0.0800\n",
      "Epoch 95/100\n",
      "469/469 [==============================] - 115s 244ms/step - loss: 0.0799 - val_loss: 0.0798\n",
      "Epoch 96/100\n",
      "469/469 [==============================] - 114s 244ms/step - loss: 0.0799 - val_loss: 0.0796\n",
      "Epoch 97/100\n",
      "469/469 [==============================] - 115s 245ms/step - loss: 0.0798 - val_loss: 0.0796\n",
      "Epoch 98/100\n",
      "469/469 [==============================] - 114s 242ms/step - loss: 0.0798 - val_loss: 0.0797\n",
      "Epoch 99/100\n",
      "469/469 [==============================] - 113s 241ms/step - loss: 0.0798 - val_loss: 0.0796\n",
      "Epoch 100/100\n",
      "469/469 [==============================] - 110s 235ms/step - loss: 0.0798 - val_loss: 0.0799\n"
     ]
    },
    {
     "data": {
      "text/plain": [
       "<keras.callbacks.History at 0x1d9025a84f0>"
      ]
     },
     "execution_count": 9,
     "metadata": {},
     "output_type": "execute_result"
    }
   ],
   "source": [
    "ae.fit(\n",
    "    x=noisy_train_data,\n",
    "    y=train_data,\n",
    "    epochs=100,\n",
    "    batch_size=128,\n",
    "    shuffle=True,\n",
    "    validation_data=(noisy_test_data, test_data),\n",
    ")"
   ]
  },
  {
   "cell_type": "code",
   "execution_count": 10,
   "metadata": {},
   "outputs": [
    {
     "name": "stdout",
     "output_type": "stream",
     "text": [
      "313/313 [==============================] - 4s 11ms/step\n"
     ]
    },
    {
     "data": {
      "image/png": "[encoded data removed]",
      "text/plain": [
       "<Figure size 1440x288 with 16 Axes>"
      ]
     },
     "metadata": {
      "needs_background": "light"
     },
     "output_type": "display_data"
    }
   ],
   "source": [
    "predictions = ae.predict(noisy_test_data)\n",
    "display(noisy_test_data, predictions)"
   ]
  },
  {
   "cell_type": "code",
   "execution_count": null,
   "metadata": {},
   "outputs": [],
   "source": []
  }
 ],
 "metadata": {
  "kaggle": {
   "accelerator": "gpu",
   "dataSources": [],
   "dockerImageVersionId": 30096,
   "isGpuEnabled": true,
   "isInternetEnabled": false,
   "language": "python",
   "sourceType": "notebook"
  },
  "kernelspec": {
   "display_name": "Python 3 (ipykernel)",
   "language": "python",
   "name": "python3"
  },
  "language_info": {
   "codemirror_mode": {
    "name": "ipython",
    "version": 3
   },
   "file_extension": ".py",
   "mimetype": "text/x-python",
   "name": "python",
   "nbconvert_exporter": "python",
   "pygments_lexer": "ipython3",
   "version": "3.9.7"
  }
 },
 "nbformat": 4,
 "nbformat_minor": 4
}
